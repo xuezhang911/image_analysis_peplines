{
 "cells": [
  {
   "cell_type": "code",
   "execution_count": 73,
   "id": "45646794",
   "metadata": {},
   "outputs": [
    {
     "name": "stdout",
     "output_type": "stream",
     "text": [
      "Current Working Directory: /Volumes/files/EvoCell_lab/smFISH in cryosections\n",
      "new_directory: /Volumes/files/EvoCell_lab/smFISH in cryosections\n"
     ]
    }
   ],
   "source": [
    "#set working directory\n",
    "import os\n",
    "current_directory = os.getcwd()\n",
    "print(\"Current Working Directory:\", current_directory)\n",
    "# change directory\n",
    "new_directory = \"/Volumes/files/EvoCell_lab/smFISH in cryosections\"\n",
    "os.chdir(new_directory)"
   ]
  },
  {
   "cell_type": "code",
   "execution_count": 65,
   "id": "4fcdf121",
   "metadata": {},
   "outputs": [],
   "source": [
    "from PIL import Image, ImageDraw"
   ]
  },
  {
   "cell_type": "code",
   "execution_count": 66,
   "id": "f163d9e4",
   "metadata": {},
   "outputs": [],
   "source": [
    "image_size = (1024, 1024) # size here depends on the format of other channels you ovelay on later\n",
    "background_color = (255, 255, 255) "
   ]
  },
  {
   "cell_type": "code",
   "execution_count": 67,
   "id": "f397ecb6",
   "metadata": {},
   "outputs": [],
   "source": [
    "image = Image.new(\"RGB\", image_size, background_color)"
   ]
  },
  {
   "cell_type": "code",
   "execution_count": 68,
   "id": "03bf99d3",
   "metadata": {},
   "outputs": [],
   "source": [
    "draw = ImageDraw.Draw(image)"
   ]
  },
  {
   "cell_type": "code",
   "execution_count": 69,
   "id": "4a3c023f",
   "metadata": {},
   "outputs": [],
   "source": [
    "data=\"/Volumes/files/EvoCell_lab/smFISH in cryosections/Fig2_NRT1.9_cell_type/results/coordinates_MAX_1_3stack_sr_Rroot4_TRANSVERSE_conl2-2.txt\"\n",
    "import pandas as pd\n",
    "df = pd.read_csv(data, sep = '\\t')"
   ]
  },
  {
   "cell_type": "code",
   "execution_count": 70,
   "id": "0f05df97",
   "metadata": {},
   "outputs": [
    {
     "name": "stdout",
     "output_type": "stream",
     "text": [
      "       Y    X\n",
      "0    366  526\n",
      "1    366  555\n",
      "2    374  581\n",
      "3    378  505\n",
      "4    379  538\n",
      "..   ...  ...\n",
      "131  764  624\n",
      "132  768  624\n",
      "133  339  431\n",
      "134  357  440\n",
      "135  378  398\n",
      "\n",
      "[136 rows x 2 columns]\n"
     ]
    }
   ],
   "source": [
    "print(df)"
   ]
  },
  {
   "cell_type": "code",
   "execution_count": 71,
   "id": "d818bcad",
   "metadata": {},
   "outputs": [],
   "source": [
    "for index, row in df.iterrows():\n",
    "    x, y = int(row['X']), int(row['Y'])\n",
    "    dot_color = (0, 0, 0)\n",
    "    dot_size = 2\n",
    "    draw.ellipse([(x - dot_size, y - dot_size), (x + dot_size, y + dot_size)], fill=dot_color)"
   ]
  },
  {
   "cell_type": "code",
   "execution_count": 72,
   "id": "232f25ec",
   "metadata": {},
   "outputs": [],
   "source": [
    "image.show()"
   ]
  },
  {
   "cell_type": "code",
   "execution_count": 75,
   "id": "cb551f1f",
   "metadata": {},
   "outputs": [],
   "source": [
    "image.save(\"./dots.jpg\", format=\"JPEG\", quality=90)"
   ]
  }
 ],
 "metadata": {
  "kernelspec": {
   "display_name": "Python 3 (ipykernel)",
   "language": "python",
   "name": "python3"
  },
  "language_info": {
   "codemirror_mode": {
    "name": "ipython",
    "version": 3
   },
   "file_extension": ".py",
   "mimetype": "text/x-python",
   "name": "python",
   "nbconvert_exporter": "python",
   "pygments_lexer": "ipython3",
   "version": "3.9.15"
  }
 },
 "nbformat": 4,
 "nbformat_minor": 5
}
