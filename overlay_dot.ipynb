{
 "cells": [
  {
   "cell_type": "code",
   "execution_count": 2,
   "id": "ecfe3a07",
   "metadata": {},
   "outputs": [
    {
     "name": "stdout",
     "output_type": "stream",
     "text": [
      "Current Working Directory: /Users/xung0001\n",
      "['s8_SR_NRT1_CDPK1_CON5-1_stack_ch1.tif']\n"
     ]
    }
   ],
   "source": [
    "import os\n",
    "import pandas as pd\n",
    "# Set working directory\n",
    "current_directory = os.getcwd()\n",
    "print(\"Current Working Directory:\", current_directory)\n",
    "# Change directory\n",
    "new_directory ='/Volumes/Expansion/zhang_et_al_2024_smFISH_cryosections/smFISH_in_cryosections/Fig2_NRT1.9_cell_type/results/corrected_results'\n",
    "os.chdir(new_directory)\n",
    "\n",
    "base_name='s8_SR_NRT1_CDPK1_CON5-1_stack'\n",
    "file_path = os.path.join(new_directory, \"_FISH-QUANT__threshold_spots_231127.txt\")\n",
    "\n",
    "# Read the data into a DataFrame\n",
    "m = pd.read_csv(file_path, sep='\\t', skiprows=13, dtype={'File': str}, engine='python')\n",
    "\n",
    "# Check how many unique files are there\n",
    "unique_files = m['File'].unique()\n",
    "print(unique_files)\n",
    "\n",
    "# Extract coordinates\n",
    "m_coordinates = m[['Pos_X', 'Pos_Y']] / 160\n",
    "\n",
    "# Write the coordinates to a new text file\n",
    "output_file_path = f'./coordinates_{base_name}.txt'\n",
    "m_coordinates.to_csv(output_file_path, sep='\\t', index=False, header=['x', 'y'])"
   ]
  },
  {
   "cell_type": "code",
   "execution_count": 3,
   "id": "ac066960",
   "metadata": {},
   "outputs": [
    {
     "name": "stdout",
     "output_type": "stream",
     "text": [
      "             x           y\n",
      "0    830.00625  350.730625\n",
      "1    282.72625  389.580000\n",
      "2    212.87000  277.272500\n",
      "3    196.53000  301.685000\n",
      "4    162.65250  407.089375\n",
      "..         ...         ...\n",
      "139  698.60000  450.308125\n",
      "140  649.17500  219.868750\n",
      "141  725.99375  393.411875\n",
      "142  670.90000  308.246875\n",
      "143  711.74375  355.758125\n",
      "\n",
      "[144 rows x 2 columns]\n"
     ]
    }
   ],
   "source": [
    "from PIL import Image, ImageDraw\n",
    "image_size = (1024, 1024) # size here depends on the format of other channels you ovelay on later\n",
    "background_color = (0, 0, 0) \n",
    "image = Image.new(\"RGB\", image_size, background_color)\n",
    "draw = ImageDraw.Draw(image)\n",
    "data=os.path.join(new_directory, \"coordinates_s8_SR_NRT1_CDPK1_CON5-1_stack.txt\")\n",
    "import pandas as pd\n",
    "df = pd.read_csv(data, sep = '\\t')\n",
    "print(df)"
   ]
  },
  {
   "cell_type": "code",
   "execution_count": 6,
   "id": "a59653f5",
   "metadata": {},
   "outputs": [],
   "source": [
    "for index, row in df.iterrows():\n",
    "    x, y = int(row['x']), int(row['y'])\n",
    "    dot_color = (255, 255, 255)\n",
    "    dot_size = 1\n",
    "    draw.ellipse([(x - dot_size, y - dot_size), (x + dot_size, y + dot_size)], fill=dot_color)"
   ]
  },
  {
   "cell_type": "code",
   "execution_count": 7,
   "id": "329366f0",
   "metadata": {},
   "outputs": [],
   "source": [
    "image.show()"
   ]
  },
  {
   "cell_type": "code",
   "execution_count": null,
   "id": "e0698168",
   "metadata": {},
   "outputs": [],
   "source": [
    "image.save(f'./dot_{base_name}.jpg', format=\"JPEG\", quality=90)"
   ]
  }
 ],
 "metadata": {
  "kernelspec": {
   "display_name": "Python 3 (ipykernel)",
   "language": "python",
   "name": "python3"
  },
  "language_info": {
   "codemirror_mode": {
    "name": "ipython",
    "version": 3
   },
   "file_extension": ".py",
   "mimetype": "text/x-python",
   "name": "python",
   "nbconvert_exporter": "python",
   "pygments_lexer": "ipython3",
   "version": "3.9.15"
  }
 },
 "nbformat": 4,
 "nbformat_minor": 5
}
